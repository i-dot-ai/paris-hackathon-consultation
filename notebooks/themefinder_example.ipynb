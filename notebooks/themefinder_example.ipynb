{
 "cells": [
  {
   "cell_type": "code",
   "execution_count": null,
   "metadata": {},
   "outputs": [],
   "source": [
    "from dotenv import load_dotenv\n",
    "import pandas as pd\n",
    "from langchain_openai import AzureChatOpenAI\n",
    "from themefinder import find_themes"
   ]
  },
  {
   "cell_type": "code",
   "execution_count": null,
   "metadata": {},
   "outputs": [],
   "source": [
    "# If needed, load LLM API settings from .env file\n",
    "load_dotenv()\n",
    "\n",
    "# Initialise your LLM of choice using langchain\n",
    "llm = AzureChatOpenAI(\n",
    "    model=\"gpt-4o\",\n",
    "    temperature=0,\n",
    "    model_kwargs={\"response_format\": {\"type\": \"json_object\"}},\n",
    ")\n"
   ]
  },
  {
   "cell_type": "code",
   "execution_count": null,
   "metadata": {},
   "outputs": [],
   "source": [
    "# Set up your data\n",
    "responses_df = pd.DataFrame({\n",
    "   \"response_id\": [\"1\", \"2\", \"3\", \"4\", \"5\"],\n",
    "   \"response\": [\"I think it's awesome, I can use it for consultation analysis.\", \n",
    "   \"It's great.\", \"It's a good approach to topic modelling.\", \"I'm not sure, I need to trial it more.\", \"I don't like it so much.\"]\n",
    "})\n",
    "\n",
    "# Add your question\n",
    "question = \"What do you think of ThemeFinder?\"\n",
    "\n",
    "# Make the system prompt specific to your use case \n",
    "system_prompt = \"You are an AI evaluation tool analyzing survey responses about a Python package.\"\n"
   ]
  },
  {
   "cell_type": "code",
   "execution_count": null,
   "metadata": {},
   "outputs": [],
   "source": [
    "result = await find_themes(responses_df, llm, question, system_prompt)\n",
    "print(result)\n",
    "\n"
   ]
  },
  {
   "cell_type": "code",
   "execution_count": null,
   "metadata": {},
   "outputs": [],
   "source": [
    "result\n"
   ]
  },
  {
   "cell_type": "code",
   "execution_count": null,
   "metadata": {},
   "outputs": [],
   "source": [
    "result[\"sentiment\"]\n"
   ]
  },
  {
   "cell_type": "code",
   "execution_count": null,
   "metadata": {},
   "outputs": [],
   "source": [
    "result[\"topics\"]"
   ]
  },
  {
   "cell_type": "code",
   "execution_count": null,
   "metadata": {},
   "outputs": [],
   "source": [
    "result[\"mapping\"]"
   ]
  }
 ],
 "metadata": {
  "kernelspec": {
   "display_name": ".venv",
   "language": "python",
   "name": "python3"
  },
  "language_info": {
   "codemirror_mode": {
    "name": "ipython",
    "version": 3
   },
   "file_extension": ".py",
   "mimetype": "text/x-python",
   "name": "python",
   "nbconvert_exporter": "python",
   "pygments_lexer": "ipython3",
   "version": "3.12.7"
  }
 },
 "nbformat": 4,
 "nbformat_minor": 2
}
