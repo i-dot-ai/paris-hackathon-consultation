{
 "cells": [
  {
   "cell_type": "code",
   "execution_count": null,
   "metadata": {},
   "outputs": [],
   "source": [
    "from dotenv import load_dotenv\n",
    "import pandas as pd\n",
    "from langchain_openai import AzureChatOpenAI\n",
    "from themefinder import find_themes"
   ]
  },
  {
   "cell_type": "code",
   "execution_count": null,
   "metadata": {},
   "outputs": [],
   "source": [
    "# Load LLM API settings from .env file\n",
    "load_dotenv()\n",
    "\n",
    "# Initialise LLM of choice using langchain\n",
    "llm = AzureChatOpenAI(\n",
    "    model=\"gpt-4o\",\n",
    "    temperature=0,\n",
    "    model_kwargs={\"response_format\": {\"type\": \"json_object\"}},\n",
    ")"
   ]
  },
  {
   "cell_type": "code",
   "execution_count": null,
   "metadata": {},
   "outputs": [],
   "source": [
    "# Set up data\n",
    "file_name = \"detailed_synthetic_data\"\n",
    "\n",
    "responses_df = pd.read_json(f\"../example_data/inputs/{file_name}.json\")\n",
    "\n",
    "responses_df = responses_df.rename(columns={\"id\": \"response_id\"})\n",
    "\n",
    "responses_df"
   ]
  },
  {
   "cell_type": "code",
   "execution_count": null,
   "metadata": {},
   "outputs": [],
   "source": [
    "# Add your question\n",
    "question = \"What are your views on the building of a new nuclear power plant in your town?\"\n",
    "\n",
    "# Make the system prompt specific to your use case\n",
    "system_prompt = \"You are an AI evaluation tool analyzing public responses to a consultation.\""
   ]
  },
  {
   "cell_type": "code",
   "execution_count": null,
   "metadata": {},
   "outputs": [],
   "source": [
    "# And get themefinder results!\n",
    "result = await find_themes(responses_df, llm, question, system_prompt)\n",
    "\n",
    "result"
   ]
  },
  {
   "cell_type": "code",
   "execution_count": null,
   "metadata": {},
   "outputs": [],
   "source": [
    "# And get the mappings\n",
    "\n",
    "mappings_df = result[\"mapping\"]\n",
    "\n",
    "mappings_df"
   ]
  },
  {
   "cell_type": "code",
   "execution_count": null,
   "metadata": {},
   "outputs": [],
   "source": [
    "# And get the themes\n",
    "topics_df = result[\"refined_topics\"]\n",
    "topics_df = topics_df.transpose().reset_index()\n",
    "topics_df = topics_df.rename(columns={\"topic_id\": \"labels\", 0: \"themes\"})\n",
    "\n",
    "topics_df"
   ]
  },
  {
   "cell_type": "code",
   "execution_count": null,
   "metadata": {},
   "outputs": [],
   "source": [
    "# Now match and write out to file\n",
    "df = mappings_df.explode([\"stances\", \"labels\"])\n",
    "df = df.merge(topics_df, on=\"labels\", how=\"left\")\n",
    "df = df.drop(columns=[\"labels\", \"reasons\"])\n",
    "\n",
    "df"
   ]
  },
  {
   "cell_type": "code",
   "execution_count": null,
   "metadata": {},
   "outputs": [],
   "source": [
    "# Write out to file\n",
    "\n",
    "df.to_json(f\"../example_data/outputs/{file_name}_mapped.json\", orient=\"records\")"
   ]
  },
  {
   "cell_type": "code",
   "execution_count": null,
   "metadata": {},
   "outputs": [],
   "source": []
  },
  {
   "cell_type": "code",
   "execution_count": null,
   "metadata": {},
   "outputs": [],
   "source": []
  }
 ],
 "metadata": {
  "kernelspec": {
   "display_name": ".venv",
   "language": "python",
   "name": "python3"
  },
  "language_info": {
   "codemirror_mode": {
    "name": "ipython",
    "version": 3
   },
   "file_extension": ".py",
   "mimetype": "text/x-python",
   "name": "python",
   "nbconvert_exporter": "python",
   "pygments_lexer": "ipython3",
   "version": "3.12.7"
  }
 },
 "nbformat": 4,
 "nbformat_minor": 2
}
