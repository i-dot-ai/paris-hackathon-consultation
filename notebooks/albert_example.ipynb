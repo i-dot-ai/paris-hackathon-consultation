{
 "cells": [
  {
   "cell_type": "code",
   "execution_count": null,
   "metadata": {},
   "outputs": [],
   "source": [
    "import os\n",
    "\n",
    "from dotenv import load_dotenv\n",
    "import pandas as pd\n",
    "from langchain_openai import OpenAI\n",
    "from themefinder import find_themes"
   ]
  },
  {
   "cell_type": "code",
   "execution_count": null,
   "metadata": {},
   "outputs": [],
   "source": [
    "# Load LLM API settings from .env file\n",
    "load_dotenv()\n",
    "\n",
    "# Add params for Albert API\n",
    "api_key = os.getenv(\"ALBERT_API\")\n",
    "base_url = \"https://albert.api.etalab.gouv.fr/v1\"\n",
    "model = \"mistralai/Mixtral-8x7B-Instruct-v0.1\"\n",
    "\n",
    "# Model options\n",
    "# https://python.langchain.com/docs/integrations/llms/openai/å\n",
    "# meta-llama/Meta-Llama-3.1-8B-Instruct\n",
    "# mistralai/Mixtral-8x7B-Instruct-v0.1\n",
    "# AgentPublic/llama3-instruct-8b\n",
    "# BAAI/bge-m3\n",
    "# AgentPublic/llama3-instruct-guillaumetell\n",
    "# intfloat/multilingual-e5-large\n",
    "# google/gemma-2-9b-it\n",
    "\n",
    "# TODO - make this work with Albert API\n",
    "# Initialise LLM using langchain\n",
    "llm = OpenAI(api_key=api_key, base_url=base_url)"
   ]
  },
  {
   "cell_type": "code",
   "execution_count": null,
   "metadata": {},
   "outputs": [],
   "source": [
    "models = llm.models.list()\n",
    "for model in models.data:\n",
    "    print(model.id)"
   ]
  },
  {
   "cell_type": "code",
   "execution_count": null,
   "metadata": {},
   "outputs": [],
   "source": [
    "# Set up data\n",
    "file_name = \"detailed_synthetic_data\"\n",
    "responses_df = pd.read_json(f\"../example_data/inputs/{file_name}.json\")\n",
    "responses_df = responses_df.rename(columns={\"id\": \"response_id\"})\n",
    "responses_df"
   ]
  },
  {
   "cell_type": "code",
   "execution_count": null,
   "metadata": {},
   "outputs": [],
   "source": [
    "# Add your question\n",
    "question = \"Avez-vous des commentaires sur la construction d'une nouvelle centrale nucléaire à Normandie?\"\n",
    "\n",
    "# Make the system prompt specific to your use case \n",
    "system_prompt = \"Vous êtes un outil d'évaluation de l'IA analysant les réponses du public à une consultation. Respondez en francais.\"\n"
   ]
  },
  {
   "cell_type": "code",
   "execution_count": null,
   "metadata": {},
   "outputs": [],
   "source": [
    "# And get themefinder results!\n",
    "result = await find_themes(responses_df, llm, question, system_prompt)\n",
    "\n",
    "result\n"
   ]
  },
  {
   "cell_type": "code",
   "execution_count": null,
   "metadata": {},
   "outputs": [],
   "source": [
    "# And get the mappings\n",
    "mappings_df = result[\"mapping\"]\n",
    "mappings_df\n"
   ]
  },
  {
   "cell_type": "code",
   "execution_count": null,
   "metadata": {},
   "outputs": [],
   "source": [
    "# And get the themes\n",
    "topics_df = result[\"refined_topics\"]\n",
    "topics_df = topics_df.transpose().reset_index()\n",
    "topics_df = topics_df.rename(columns={\"topic_id\": \"labels\", 0: \"themes\"})\n",
    "\n",
    "topics_df"
   ]
  },
  {
   "cell_type": "code",
   "execution_count": null,
   "metadata": {},
   "outputs": [],
   "source": [
    "# Now match and write out to file\n",
    "df = mappings_df.explode([\"stances\", \"labels\"])\n",
    "df = df.merge(topics_df, on=\"labels\", how=\"left\")\n",
    "df = df.drop(columns=[\"labels\", \"reasons\"])\n",
    "\n",
    "df"
   ]
  },
  {
   "cell_type": "code",
   "execution_count": null,
   "metadata": {},
   "outputs": [],
   "source": [
    "# Write out to file\n",
    "\n",
    "df.to_json(f\"../example_data/outputs/albert_{file_name}_mapped.json\", orient=\"records\")"
   ]
  },
  {
   "cell_type": "code",
   "execution_count": null,
   "metadata": {},
   "outputs": [],
   "source": []
  },
  {
   "cell_type": "code",
   "execution_count": null,
   "metadata": {},
   "outputs": [],
   "source": []
  },
  {
   "cell_type": "markdown",
   "metadata": {},
   "source": []
  },
  {
   "cell_type": "markdown",
   "metadata": {},
   "source": []
  },
  {
   "cell_type": "code",
   "execution_count": null,
   "metadata": {},
   "outputs": [],
   "source": []
  }
 ],
 "metadata": {
  "kernelspec": {
   "display_name": ".venv",
   "language": "python",
   "name": "python3"
  },
  "language_info": {
   "codemirror_mode": {
    "name": "ipython",
    "version": 3
   },
   "file_extension": ".py",
   "mimetype": "text/x-python",
   "name": "python",
   "nbconvert_exporter": "python",
   "pygments_lexer": "ipython3",
   "version": "3.12.7"
  }
 },
 "nbformat": 4,
 "nbformat_minor": 2
}
